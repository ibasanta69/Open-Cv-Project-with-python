{
 "cells": [
  {
   "cell_type": "code",
   "execution_count": 12,
   "id": "56eb4b2b",
   "metadata": {},
   "outputs": [],
   "source": [
    "# read a image in open-cv\n",
    "import cv2 as cp\n",
    "img=cp.imread('g.jpg')\n",
    "img=cp.resize(img,(400,600))\n",
    "cp.imshow('image',img)\n",
    "cp.waitKey()\n",
    "cp.destroyAllWindows()\n"
   ]
  },
  {
   "cell_type": "code",
   "execution_count": 1,
   "id": "67ab1275",
   "metadata": {},
   "outputs": [],
   "source": [
    "#how to write a image in open-cv with python   #C:\\\\Users\\\\Death Empire\\\\Desktop\\\\Open-CV python\\\\outputs cv-open\\\\\n",
    "import cv2 as cp\n",
    "img=cp.imread('g.jpg')\n",
    "img=cp.resize(img,(500,700))\n",
    "cp.imshow('Girl',img)\n",
    "cp.imwrite('C:\\\\Users\\\\Death Empire\\\\Desktop\\\\Open-CV python\\\\outputs cv-open\\\\beauty.jpg',img)\n",
    "cp.waitKey(0)\n",
    "cp.destroyAllWindows()"
   ]
  },
  {
   "cell_type": "code",
   "execution_count": 5,
   "id": "ee3692b8",
   "metadata": {},
   "outputs": [
    {
     "name": "stdout",
     "output_type": "stream",
     "text": [
      "(700, 500, 3)\n",
      "Height Pixel Value Is :  700\n",
      "Width Pixel Value Is :  500\n"
     ]
    }
   ],
   "source": [
    "# how to get image pixelproperties in open-cv with python\n",
    "import cv2 as cp\n",
    "img=cp.imread('g.jpg')\n",
    "img=cp.resize(img,(500,700))\n",
    "cp.imshow('Imgae',img)\n",
    "print(img.shape)\n",
    "print('Height Pixel Value Is : ',img.shape[0])\n",
    "print('Width Pixel Value Is : ',img.shape[1])\n",
    "cp.waitKey()\n",
    "cp.destroyAllWindows()"
   ]
  },
  {
   "cell_type": "code",
   "execution_count": 10,
   "id": "410873ca",
   "metadata": {},
   "outputs": [],
   "source": [
    "# how to make RGB color image to  GrayScale image in open-cv with python\n",
    "import cv2 as cp\n",
    "img=cp.imread('g.jpg')\n",
    "img=cp.resize(img,(500,700))\n",
    "cp.imshow('Image',img)\n",
    "gray=cp.cvtColor(img,cp.COLOR_BGR2GRAY)\n",
    "cp.imshow('Gray Image',gray)\n",
    "cp.waitKey()\n",
    "cp.destroyAllWindows()"
   ]
  },
  {
   "cell_type": "code",
   "execution_count": 11,
   "id": "1c641132",
   "metadata": {},
   "outputs": [],
   "source": [
    "# how to make RGB color image to  GrayScale image in open-cv with python\n",
    "import cv2 as cp\n",
    "img=cp.imread('g.jpg',0)\n",
    "img=cp.resize(img,(500,700))\n",
    "cp.imshow('Image',img)\n",
    "cp.waitKey()\n",
    "cp.destroyAllWindows()"
   ]
  },
  {
   "cell_type": "code",
   "execution_count": 1,
   "id": "58839baa",
   "metadata": {},
   "outputs": [],
   "source": [
    "# how to convert RGB color image to Binary image\n",
    "import cv2 as cp\n",
    "img=cp.imread('g.jpg',0)\n",
    "img=cp.resize(img,(500,700))\n",
    "cp.imshow('Girl',img)\n",
    "cp.waitKey(0)\n",
    "ret,bw=cp.threshold(img,100,255,cp.THRESH_BINARY)\n",
    "cp.imshow('Blank&White Binary Inage :',bw)\n",
    "cp.waitKey(0)\n",
    "cp.destroyAllWindows()"
   ]
  },
  {
   "cell_type": "code",
   "execution_count": 6,
   "id": "56b29855",
   "metadata": {},
   "outputs": [],
   "source": [
    "#How TO Convert RGB color image top HSV color image\n",
    "import cv2 as cp\n",
    "img=cp.imread('g.jpg')\n",
    "img=cp.resize(img,(500,700))\n",
    "cp.imshow('Image',img)\n",
    "img_HSV=cp.cvtColor(img,cp.COLOR_BGR2HSV)\n",
    "cp.imshow('HSV color Image',img_HSV)\n",
    "\n",
    "cp.imshow('HUE channel',img_HSV[: , :, 0])\n",
    "cp.imshow('Saturation ',img_HSV[: , :, 1])\n",
    "cp.imshow('Value ',img_HSV[: , :, 2])\n",
    "cp.waitKey(0)\n",
    "cp.destroyAllWindows()"
   ]
  },
  {
   "cell_type": "code",
   "execution_count": 13,
   "id": "b179f733",
   "metadata": {},
   "outputs": [],
   "source": [
    "# How to Extract RGB  color  spaces\n",
    "import cv2 as cp\n",
    "import numpy as np\n",
    "img=cp.imread('g.jpg')\n",
    "img=cp.resize(img,(500,700))\n",
    "cp.imshow('Origrinal Image ',img)\n",
    " \n",
    "B,G,R=cp.split(img)\n",
    "zeros=np.zeros(img.shape[:2],dtype='uint8')\n",
    "cp.imshow('Red',cp.merge([zeros,zeros,R]))\n",
    "cp.waitKey()\n",
    "cp.imshow('Green',cp.merge([zeros,G,zeros]))\n",
    "cp.waitKey()\n",
    "cp.imshow('Blue',cp.merge([B,zeros,zeros]))\n",
    "\n",
    "cp.waitKey()\n",
    "cp.destroyAllWindows()"
   ]
  },
  {
   "cell_type": "code",
   "execution_count": 3,
   "id": "f39aedce",
   "metadata": {},
   "outputs": [
    {
     "name": "stdout",
     "output_type": "stream",
     "text": [
      "Height :  700\n",
      "Widht :  500\n",
      "Qrt_height :  70.0\n",
      "Qrt_width :  50.0\n",
      "[[ 1.  0. 50.]\n",
      " [ 0.  1. 70.]]\n"
     ]
    }
   ],
   "source": [
    "# How To Translation image in open-cv with python\n",
    "import cv2 as cp\n",
    "import numpy as np\n",
    "img=cp.imread('g.jpg')\n",
    "img=cp.resize(img,(500,700))\n",
    "cp.imshow('Original Image',img)\n",
    "height,width=img.shape[:2]\n",
    "\n",
    "print('Height : ',height)\n",
    "print('Widht : ',width)\n",
    "\n",
    "qrttheight=height/10\n",
    "qrttwidth=width/10\n",
    "\n",
    "print('Qrt_height : ',qrttheight)\n",
    "print('Qrt_width : ',qrttwidth)\n",
    "\n",
    "T=np.float32([[1,0,qrttwidth],[0,1,qrttheight]])\n",
    "\n",
    "print(T)\n",
    "\n",
    "img_translation=cp.warpAffine(img,T,(width,height))\n",
    "cp.imshow('Trans',img_translation)\n",
    "\n",
    "cp.waitKey()\n",
    "cp.destroyAllWindows()"
   ]
  },
  {
   "cell_type": "code",
   "execution_count": 9,
   "id": "3f4593b2",
   "metadata": {},
   "outputs": [],
   "source": [
    "# hoiw to make rotate image in open-cv with python\n",
    "import cv2 as cp\n",
    "import numpy as np\n",
    "img=cp.imread('g.jpg')\n",
    "img=cp.resize(img,(500,700))\n",
    "height,width=img.shape[:2]\n",
    "rotation_matrix=cp.getRotationMatrix2D((width/2,height/2),130,1.0)\n",
    "rotated=cp.warpAffine(img,rotation_matrix,(width,height))\n",
    "cp.imshow('rotated',rotated)\n",
    "cp.waitKey()\n",
    "cp.destroyAllWindows()"
   ]
  },
  {
   "cell_type": "code",
   "execution_count": 14,
   "id": "27d51921",
   "metadata": {},
   "outputs": [],
   "source": [
    "# How To Transpose image inopen-cv with python\\\n",
    "import cv2 as cp\n",
    "import numpy as np\n",
    "img=cp.imread('g.jpg')\n",
    "img=cp.resize(img,(500,700))\n",
    "rotate_img=cp.transpose(img)\n",
    "cp.imshow('Original',img)\n",
    "cp.imshow('rotate',rotate_img)\n",
    "cp.waitKey(0)\n",
    "cp.destroyAllWindows()\n"
   ]
  },
  {
   "cell_type": "code",
   "execution_count": 20,
   "id": "3195a286",
   "metadata": {},
   "outputs": [],
   "source": [
    "# image resize using pyramid in oprn-cv with python\n",
    "import cv2 as cp\n",
    "import numpy as np\n",
    "img=cp.imread('g.jpg')\n",
    "img=cp.resize(img,(500,700))\n",
    "cp.imshow('original Image',img)\n",
    "\n",
    "smaller=cp.pyrDown(img)\n",
    "larger=cp.pyrUp(img)\n",
    "cp.imshow('SMall',smaller)\n",
    "cp.imshow('Larger',larger)\n",
    "\n",
    "cp.waitKey(0)\n",
    "cp.destroyAllWindows()"
   ]
  },
  {
   "cell_type": "code",
   "execution_count": 24,
   "id": "560037e2",
   "metadata": {},
   "outputs": [],
   "source": [
    "# how to image croping in open-cv with python\n",
    "import cv2 as cp\n",
    "import numpy as np\n",
    "img=cp.resize(img,(500,700))\n",
    "img=cp.imread('g.jpg')\n",
    "height,width=img.shape[:2]\n",
    "st_row,st_col=int(height*.25),int(width*.25)\n",
    "end_row,end_col=int(height*.75),int(width*.75)\n",
    "cropped=img[st_row:end_row,st_col:end_col]\n",
    "cp.imshow('original',img)\n",
    "cp.imshow('Croped',cropped)\n",
    "cp.waitKey()\n",
    "cp.destroyAllWindows()"
   ]
  },
  {
   "cell_type": "code",
   "execution_count": 28,
   "id": "42ad3b1d",
   "metadata": {},
   "outputs": [],
   "source": [
    "# read a image in open-cv\n",
    "import cv2 as cp\n",
    "import numpy as np\n",
    "img=cp.imread('g.jpg')\n",
    "img=cp.resize(img,(400,600))\n",
    "cp.imshow('image',img)\n",
    "m=np.ones(img.shape,dtype='uint8')*50\n",
    "m1=np.ones(img.shape,dtype='uint8')+50\n",
    "added=cp.add(img,m1)\n",
    "cp.imshow('Add Imge',added)\n",
    "sub=cp.subtract(img,m1)\n",
    "cp.imshow('Sub Imge',sub)\n",
    "mul=cp.multiply(img,m1)\n",
    "cp.imshow('Add Imge',mul)\n",
    "cp.waitKey()\n",
    "cp.destroyAllWindows()"
   ]
  },
  {
   "cell_type": "code",
   "execution_count": 1,
   "id": "cc4721f1",
   "metadata": {},
   "outputs": [],
   "source": [
    "# Image Bitwise Operation in open-cv with python\n",
    "import cv2 as cp\n",
    "import numpy as np\n",
    "square=np.zeros((300,300),np.int8)\n",
    "cp.rectangle(square,(50,50),(250,250),255,2)\n",
    "cp.imshow('sq',square)\n",
    "# eclipse=np.zeros((300,300),np.int8)\n",
    "# cp.ellipse(eclipse,(150,150),(150,150),30,0,180,255,-1)\n",
    "# cp.imshow('Eclipse',eclipsee)\n",
    "cp.waitKey()\n",
    "cp.destroyAllWindows()"
   ]
  },
  {
   "cell_type": "code",
   "execution_count": 7,
   "id": "4718d42a",
   "metadata": {},
   "outputs": [],
   "source": [
    "#blurring image in open-cv with python\n",
    "import cv2 as cp\n",
    "import numpy as np\n",
    "img=cp.imread('g.jpg')\n",
    "img=cp.resize(img,(500,700))\n",
    "cp.imshow('Img',img)\n",
    "kernel=np.ones((4,4),np.float32)/16\n",
    "blur=cp.filter2D(img,-1,kernel)\n",
    "cp.imshow('Blurr',blur)\n",
    "cp.waitKey()\n",
    "cp.destroyAllWindows()"
   ]
  },
  {
   "cell_type": "code",
   "execution_count": 1,
   "id": "6fbf905e",
   "metadata": {},
   "outputs": [],
   "source": [
    "#Image Smoothing in open-cv with python\n",
    "import cv2 as cp\n",
    "import numpy as np\n",
    "img=cp.imread('g.jpg')\n",
    "img=cp.resize(img,(500,700))\n",
    "cp.imshow('Img',img)\n",
    "\n",
    "smooth=cp.blur(img,(3,3))\n",
    "cp.imshow('smoth',smooth)\n",
    "\n",
    "gaussian=cp.GaussianBlur(img,(7,7),0)\n",
    "cp.imshow('Gussian',gaussian)\n",
    "\n",
    "median=cp.medianBlur(img,5)\n",
    "cp.imshow('median',median)\n",
    "\n",
    "bilateral=cp.bilateralFilter(img,9,75,75)\n",
    "cp.imshow('bilateral',bilateral)\n",
    "cp.waitKey()\n",
    "cp.destroyAllWindows()"
   ]
  },
  {
   "cell_type": "code",
   "execution_count": 6,
   "id": "ec4b5a78",
   "metadata": {},
   "outputs": [],
   "source": [
    "# IMage Edge Detection in open-cv with python\n",
    "import cv2 as cp\n",
    "import numpy as np\n",
    "img=cp.imread('g.jpg')\n",
    "img=cp.resize(img,(400,600))\n",
    "cp.imshow('image',img)\n",
    "sobel_x=cp.Sobel(img,cp.CV_64F,1,0,ksize=5)\n",
    "sobel_y=cp.Sobel(img,cp.CV_64F,0,1,ksize=5)\n",
    "cp.imshow('sobal',sobel_x)\n",
    "cp.imshow('sobel_y',sobel_y)\n",
    "\n",
    "sobell=cp.bitwise_or(sobel_x,sobel_y)\n",
    "cp.imshow('bitwose',sobell)\n",
    "\n",
    "lap=cp.Laplacian(img,cp.CV_64F)\n",
    "cp.imshow('lap',lap)\n",
    "\n",
    "canny=cp.Canny(img,20,270)\n",
    "cp.imshow('canny',canny)\n",
    "cp.waitKey()\n",
    "cp.destroyAllWindows()\n"
   ]
  },
  {
   "cell_type": "code",
   "execution_count": null,
   "id": "2f4f8903",
   "metadata": {},
   "outputs": [],
   "source": [
    "# How To Access Web cam in open-cv with thwe help of python"
   ]
  },
  {
   "cell_type": "code",
   "execution_count": 1,
   "id": "d18595d8",
   "metadata": {},
   "outputs": [],
   "source": [
    "import cv2 as cp\n",
    "cap=cp.VideoCapture(0, cp.CAP_DSHOW)\n",
    "while True:\n",
    "    ret,frame=cap.read()\n",
    "    cp.imshow('WebCam',frame)\n",
    "    if cp.waitKey(1) & 0xFF==ord('q'):\n",
    "        break\n",
    "cap.release()\n",
    "cp.destroyAllWindows()"
   ]
  },
  {
   "cell_type": "code",
   "execution_count": 5,
   "id": "d3f3a98d",
   "metadata": {},
   "outputs": [
    {
     "name": "stdout",
     "output_type": "stream",
     "text": [
      "True\n",
      "[[[0 0 1]\n",
      "  [0 0 0]\n",
      "  [4 0 0]\n",
      "  ...\n",
      "  [3 2 6]\n",
      "  [3 5 6]\n",
      "  [3 5 6]]\n",
      "\n",
      " [[0 0 4]\n",
      "  [0 0 3]\n",
      "  [2 0 3]\n",
      "  ...\n",
      "  [5 2 6]\n",
      "  [3 5 6]\n",
      "  [3 5 6]]\n",
      "\n",
      " [[0 0 4]\n",
      "  [0 0 4]\n",
      "  [3 0 4]\n",
      "  ...\n",
      "  [4 3 7]\n",
      "  [7 4 8]\n",
      "  [7 4 8]]\n",
      "\n",
      " ...\n",
      "\n",
      " [[0 1 7]\n",
      "  [0 2 8]\n",
      "  [3 1 7]\n",
      "  ...\n",
      "  [6 0 0]\n",
      "  [3 0 0]\n",
      "  [4 0 0]]\n",
      "\n",
      " [[0 3 7]\n",
      "  [0 3 7]\n",
      "  [2 0 6]\n",
      "  ...\n",
      "  [2 0 0]\n",
      "  [3 0 0]\n",
      "  [3 0 0]]\n",
      "\n",
      " [[0 2 6]\n",
      "  [0 2 6]\n",
      "  [2 0 6]\n",
      "  ...\n",
      "  [2 0 1]\n",
      "  [3 0 0]\n",
      "  [3 0 0]]]\n"
     ]
    },
    {
     "data": {
      "image/png": "[encoded data removed]",
      "text/plain": [
       "<Figure size 432x288 with 1 Axes>"
      ]
     },
     "metadata": {},
     "output_type": "display_data"
    }
   ],
   "source": [
    "import cv2 as cp\n",
    "import matplotlib.pyplot as plt\n",
    "cap=cp.VideoCapture(0,cp.CAP_DSHOW)\n",
    "if cap.isOpened():\n",
    "    ret,frame=cap.read()\n",
    "    print(ret)\n",
    "    print(frame)\n",
    "else:\n",
    "    ret=False\n",
    "img1=cp.cvtColor(frame,cp.COLOR_BGR2RGB)\n",
    "plt.imshow(img1)\n",
    "plt.title('camera image ')\n",
    "plt.xticks([])\n",
    "plt.yticks([])\n",
    "plt.show()\n",
    "cap.release()"
   ]
  },
  {
   "cell_type": "code",
   "execution_count": null,
   "id": "128fde39",
   "metadata": {},
   "outputs": [],
   "source": []
  },
  {
   "cell_type": "code",
   "execution_count": 39,
   "id": "c5e9c422",
   "metadata": {},
   "outputs": [],
   "source": [
    "#Edge detection webcam in open-cv with python\n",
    "import cv2 as cp\n",
    "import numpy as np\n",
    "\n",
    "def sketch(image):\n",
    "    img1=cp.cvtColor(image,cp.COLOR_BGR2GRAY)\n",
    "    img_ry_blur=cp.GaussianBlur(img1,(5,5),0)\n",
    "    canny_edg=cp.Canny(img_ry_blur,10,70)\n",
    "    ret,mask=cp.threshold(canny_edg,70,255,cp.THRESH_BINARY)\n",
    "    return mask\n",
    "\n",
    "cap=cp.VideoCapture(0,cp.CAP_DSHOW)\n",
    "while (cap.isOpened()):\n",
    "    ret,frame=cap.read()\n",
    "    cp.imshow(\"Live\",sketch(frame))\n",
    "    if cp.waitKey(0) & 0xFF==ord('q'):\n",
    "        break\n",
    "cap.release()\n",
    "cp.destroyAllWindows()"
   ]
  },
  {
   "cell_type": "code",
   "execution_count": 40,
   "id": "f0afdcd4",
   "metadata": {},
   "outputs": [],
   "source": [
    "#color filtering webcam\n",
    "camera=\"http://192.168.1.11:8080/video\"\n",
    "cap=cp.VideoCapture(0,cp.CAP_DSHOW)\n",
    "cap.open(camera)\n",
    "#cap=cp.VideoCapture(0,cp.CAP_DSHOW)\n",
    "while True:\n",
    "    ret,frame=cap.read()\n",
    "    HSV=cp.cvtColor(img,cp.COLOR_BGR2HSV)\n",
    "    lower=np.array([110,50,50])\n",
    "    upper=np.array([130,255,255])\n",
    "    mask=cp.inRange(HSV,lower,upper)\n",
    "    cp.imshow('Color',mask)\n",
    "    if cp.waitKey(1)==ord('q'):\n",
    "        break\n",
    "cap.release()\n",
    "cp.destroyAllWindows()"
   ]
  },
  {
   "cell_type": "code",
   "execution_count": 44,
   "id": "f97c937e",
   "metadata": {},
   "outputs": [
    {
     "ename": "error",
     "evalue": "OpenCV(4.5.4-dev) D:\\a\\opencv-python\\opencv-python\\opencv\\modules\\highgui\\src\\window_w32.cpp:2581: error: (-27:Null pointer) NULL window: 'image' in function 'cvGetTrackbarPos'\n",
     "output_type": "error",
     "traceback": [
      "\u001b[1;31m---------------------------------------------------------------------------\u001b[0m",
      "\u001b[1;31merror\u001b[0m                                     Traceback (most recent call last)",
      "\u001b[1;32mC:\\Users\\DEATHE~1\\AppData\\Local\\Temp/ipykernel_936/4184143868.py\u001b[0m in \u001b[0;36m<module>\u001b[1;34m\u001b[0m\n\u001b[0;32m     13\u001b[0m     \u001b[1;32mif\u001b[0m \u001b[0mcp\u001b[0m\u001b[1;33m.\u001b[0m\u001b[0mwaitKey\u001b[0m\u001b[1;33m(\u001b[0m\u001b[1;36m1\u001b[0m\u001b[1;33m)\u001b[0m\u001b[1;33m==\u001b[0m\u001b[0mord\u001b[0m\u001b[1;33m(\u001b[0m\u001b[1;34m'q'\u001b[0m\u001b[1;33m)\u001b[0m\u001b[1;33m:\u001b[0m\u001b[1;33m\u001b[0m\u001b[1;33m\u001b[0m\u001b[0m\n\u001b[0;32m     14\u001b[0m         \u001b[1;32mbreak\u001b[0m\u001b[1;33m\u001b[0m\u001b[1;33m\u001b[0m\u001b[0m\n\u001b[1;32m---> 15\u001b[1;33m     \u001b[0mr\u001b[0m\u001b[1;33m=\u001b[0m\u001b[0mcp\u001b[0m\u001b[1;33m.\u001b[0m\u001b[0mgetTrackbarPos\u001b[0m\u001b[1;33m(\u001b[0m\u001b[1;34m'R'\u001b[0m\u001b[1;33m,\u001b[0m\u001b[1;34m'image'\u001b[0m\u001b[1;33m)\u001b[0m\u001b[1;33m\u001b[0m\u001b[1;33m\u001b[0m\u001b[0m\n\u001b[0m\u001b[0;32m     16\u001b[0m     \u001b[0mg\u001b[0m\u001b[1;33m=\u001b[0m\u001b[0mcp\u001b[0m\u001b[1;33m.\u001b[0m\u001b[0mgetTrackbarPos\u001b[0m\u001b[1;33m(\u001b[0m\u001b[1;34m'G'\u001b[0m\u001b[1;33m,\u001b[0m\u001b[1;34m'image'\u001b[0m\u001b[1;33m)\u001b[0m\u001b[1;33m\u001b[0m\u001b[1;33m\u001b[0m\u001b[0m\n\u001b[0;32m     17\u001b[0m     \u001b[0mb\u001b[0m\u001b[1;33m=\u001b[0m\u001b[0mcp\u001b[0m\u001b[1;33m.\u001b[0m\u001b[0mgetTrackbarPos\u001b[0m\u001b[1;33m(\u001b[0m\u001b[1;34m'B'\u001b[0m\u001b[1;33m,\u001b[0m\u001b[1;34m'image'\u001b[0m\u001b[1;33m)\u001b[0m\u001b[1;33m\u001b[0m\u001b[1;33m\u001b[0m\u001b[0m\n",
      "\u001b[1;31merror\u001b[0m: OpenCV(4.5.4-dev) D:\\a\\opencv-python\\opencv-python\\opencv\\modules\\highgui\\src\\window_w32.cpp:2581: error: (-27:Null pointer) NULL window: 'image' in function 'cvGetTrackbarPos'\n"
     ]
    }
   ],
   "source": [
    "# create color TRackBar\n",
    "def nothing(x):\n",
    "    pass\n",
    "img=np.zeros((300,512,3),np.uint8)\n",
    "cp.namedWindow('image')\n",
    "cp.createTrackbar('R','image',0,255,nothing)\n",
    "cp.createTrackbar('G','image',0,255,nothing)\n",
    "cp.createTrackbar('B','image',0,255,nothing)\n",
    "switch='0:OFF \\n 1:ON'\n",
    "cp.createTrackbar(switch,'image',0,1,nothing)\n",
    "while True:\n",
    "    cp.imshow('image',img)\n",
    "    if cp.waitKey(1)==ord('q'):\n",
    "        break\n",
    "    r=cp.getTrackbarPos('R','image')\n",
    "    g=cp.getTrackbarPos('G','image')\n",
    "    b=cp.getTrackbarPos('B','image')\n",
    "    s=cp.getTrackbarPos(switch,'image')\n",
    "    if s==0:\n",
    "        img[:]=0\n",
    "    else:\n",
    "        img[:]=[b,g,r]\n",
    "cp.destroyAllWindows()"
   ]
  },
  {
   "cell_type": "code",
   "execution_count": 46,
   "id": "87bc6aae",
   "metadata": {},
   "outputs": [],
   "source": [
    "# create mouse callback function or mouse events in open-cv with python\n",
    "windo='Drawing'\n",
    "img=np.zeros((512,512,3),np.uint8)\n",
    "cp.namedWindow(windo)\n",
    "\n",
    "def draw(event,x,y,flags,param):\n",
    "    if event==cp.EVENT_LBUTTONDBLCLK:\n",
    "        cp.circle(img,(x,y),40,(0,255,0),-1)\n",
    "    if event==cp.EVENT_MBUTTONDOWN:\n",
    "        cp.circle(img,(x,y),30,(0,0,255),-1)\n",
    "    if event==cp.EVENT_RBUTTONDOWN:\n",
    "        cp.circle(img,(x,y),60,(223,0,0),-1)\n",
    "cp.setMouseCallback(windo,draw)\n",
    "while True:\n",
    "    cp.imshow('event',img)\n",
    "    if cp.waitKey(1)==ord('q'):\n",
    "        break\n",
    "cp.destroyAllWindows()"
   ]
  },
  {
   "cell_type": "code",
   "execution_count": 47,
   "id": "cbbedb97",
   "metadata": {},
   "outputs": [],
   "source": [
    "# create image sharping in open-cv with python\n",
    "# read a image in open-cv\n",
    "import cv2 as cp\n",
    "img=cp.imread('g.jpg')\n",
    "img=cp.resize(img,(400,600))\n",
    "cp.imshow('image',img)\n",
    "cp.waitKey()\n",
    "cp.destroyAllWindows()"
   ]
  },
  {
   "cell_type": "code",
   "execution_count": 5,
   "id": "214888d2",
   "metadata": {},
   "outputs": [
    {
     "name": "stderr",
     "output_type": "stream",
     "text": [
      "<>:9: SyntaxWarning: \"is\" with a literal. Did you mean \"==\"?\n",
      "<>:9: SyntaxWarning: \"is\" with a literal. Did you mean \"==\"?\n",
      "C:\\Users\\DEATHE~1\\AppData\\Local\\Temp/ipykernel_4372/91803320.py:9: SyntaxWarning: \"is\" with a literal. Did you mean \"==\"?\n",
      "  if face is():\n"
     ]
    },
    {
     "ename": "error",
     "evalue": "OpenCV(4.5.4-dev) D:\\a\\opencv-python\\opencv-python\\opencv\\modules\\imgproc\\src\\color.cpp:182: error: (-215:Assertion failed) !_src.empty() in function 'cv::cvtColor'\n",
     "output_type": "error",
     "traceback": [
      "\u001b[1;31m---------------------------------------------------------------------------\u001b[0m",
      "\u001b[1;31merror\u001b[0m                                     Traceback (most recent call last)",
      "\u001b[1;32mC:\\Users\\DEATHE~1\\AppData\\Local\\Temp/ipykernel_4372/91803320.py\u001b[0m in \u001b[0;36m<module>\u001b[1;34m\u001b[0m\n\u001b[0;32m     16\u001b[0m \u001b[1;32mwhile\u001b[0m \u001b[1;32mTrue\u001b[0m\u001b[1;33m:\u001b[0m\u001b[1;33m\u001b[0m\u001b[1;33m\u001b[0m\u001b[0m\n\u001b[0;32m     17\u001b[0m     \u001b[0mret\u001b[0m\u001b[1;33m,\u001b[0m\u001b[0mframe\u001b[0m\u001b[1;33m=\u001b[0m\u001b[0mcap\u001b[0m\u001b[1;33m.\u001b[0m\u001b[0mread\u001b[0m\u001b[1;33m(\u001b[0m\u001b[1;33m)\u001b[0m\u001b[1;33m\u001b[0m\u001b[1;33m\u001b[0m\u001b[0m\n\u001b[1;32m---> 18\u001b[1;33m     \u001b[1;32mif\u001b[0m \u001b[1;33m(\u001b[0m\u001b[0mface_extract\u001b[0m\u001b[1;33m(\u001b[0m\u001b[0mframe\u001b[0m\u001b[1;33m)\u001b[0m\u001b[1;33m)\u001b[0m \u001b[1;32mis\u001b[0m \u001b[1;32mnot\u001b[0m \u001b[1;32mNone\u001b[0m\u001b[1;33m:\u001b[0m\u001b[1;33m\u001b[0m\u001b[1;33m\u001b[0m\u001b[0m\n\u001b[0m\u001b[0;32m     19\u001b[0m         \u001b[0mcount\u001b[0m\u001b[1;33m+=\u001b[0m\u001b[1;36m1\u001b[0m\u001b[1;33m\u001b[0m\u001b[1;33m\u001b[0m\u001b[0m\n\u001b[0;32m     20\u001b[0m         \u001b[0mfaces\u001b[0m\u001b[1;33m=\u001b[0m\u001b[0mcp\u001b[0m\u001b[1;33m.\u001b[0m\u001b[0mresize\u001b[0m\u001b[1;33m(\u001b[0m\u001b[0mface_extract\u001b[0m\u001b[1;33m(\u001b[0m\u001b[0mframe\u001b[0m\u001b[1;33m)\u001b[0m\u001b[1;33m,\u001b[0m\u001b[1;33m(\u001b[0m\u001b[1;36m200\u001b[0m\u001b[1;33m,\u001b[0m\u001b[1;36m200\u001b[0m\u001b[1;33m)\u001b[0m\u001b[1;33m)\u001b[0m\u001b[1;33m\u001b[0m\u001b[1;33m\u001b[0m\u001b[0m\n",
      "\u001b[1;32mC:\\Users\\DEATHE~1\\AppData\\Local\\Temp/ipykernel_4372/91803320.py\u001b[0m in \u001b[0;36mface_extract\u001b[1;34m(img)\u001b[0m\n\u001b[0;32m      5\u001b[0m \u001b[1;33m\u001b[0m\u001b[0m\n\u001b[0;32m      6\u001b[0m \u001b[1;32mdef\u001b[0m \u001b[0mface_extract\u001b[0m\u001b[1;33m(\u001b[0m\u001b[0mimg\u001b[0m\u001b[1;33m)\u001b[0m\u001b[1;33m:\u001b[0m\u001b[1;33m\u001b[0m\u001b[1;33m\u001b[0m\u001b[0m\n\u001b[1;32m----> 7\u001b[1;33m     \u001b[0mgray\u001b[0m\u001b[1;33m=\u001b[0m\u001b[0mcp\u001b[0m\u001b[1;33m.\u001b[0m\u001b[0mcvtColor\u001b[0m\u001b[1;33m(\u001b[0m\u001b[0mimg\u001b[0m\u001b[1;33m,\u001b[0m\u001b[0mcp\u001b[0m\u001b[1;33m.\u001b[0m\u001b[0mCOLOR_BGR2GRAY\u001b[0m\u001b[1;33m)\u001b[0m\u001b[1;33m\u001b[0m\u001b[1;33m\u001b[0m\u001b[0m\n\u001b[0m\u001b[0;32m      8\u001b[0m     \u001b[0mface\u001b[0m\u001b[1;33m=\u001b[0m\u001b[0mface_classifier\u001b[0m\u001b[1;33m.\u001b[0m\u001b[0mdetectMultiScale\u001b[0m\u001b[1;33m(\u001b[0m\u001b[0mgray\u001b[0m\u001b[1;33m,\u001b[0m\u001b[1;36m1.3\u001b[0m\u001b[1;33m,\u001b[0m\u001b[1;36m5\u001b[0m\u001b[1;33m)\u001b[0m\u001b[1;33m\u001b[0m\u001b[1;33m\u001b[0m\u001b[0m\n\u001b[0;32m      9\u001b[0m     \u001b[1;32mif\u001b[0m \u001b[0mface\u001b[0m \u001b[1;32mis\u001b[0m\u001b[1;33m(\u001b[0m\u001b[1;33m)\u001b[0m\u001b[1;33m:\u001b[0m\u001b[1;33m\u001b[0m\u001b[1;33m\u001b[0m\u001b[0m\n",
      "\u001b[1;31merror\u001b[0m: OpenCV(4.5.4-dev) D:\\a\\opencv-python\\opencv-python\\opencv\\modules\\imgproc\\src\\color.cpp:182: error: (-215:Assertion failed) !_src.empty() in function 'cv::cvtColor'\n"
     ]
    }
   ],
   "source": []
  },
  {
   "cell_type": "code",
   "execution_count": null,
   "id": "e41d8eb0",
   "metadata": {},
   "outputs": [],
   "source": [
    "#C:/Users/Death Empire/AppData/Local/Programs/Python/Python39/Lib/site-packages/cv2/data/haarcascade_frontalface_default.xml\n",
    "import cv2 as cp\n",
    "import numpy as np\n",
    "face_classifier=cp.CascadeClassifier('C:/Users/Death Empire/AppData/Local/Programs/Python/Python39/Lib/site-packages/cv2/data/haarcascade_frontalface_default.xml')\n",
    "\n",
    "def face_extract(img):\n",
    "    gray=cp.cvtColor(img,cp.COLOR_BGR2GRAY)\n",
    "    face=face_classifier.detectMultiScale(gray,1.3,5)\n",
    "    if face is():\n",
    "        return None\n",
    "    for(x,y,w,h) in face:\n",
    "        crop_face=img[y:y+h,x:x+w]\n",
    "    return crop_face\n",
    "cap=cp.VideoCapture(0,cp.CAP_DSHOW)\n",
    "count=0\n",
    "while True:\n",
    "    ret,frame=cap.read()\n",
    "    if (face_extract(frame)) is not None:\n",
    "        count+=1\n",
    "        faces=cp.resize(face_extract(frame),(200,200))\n",
    "        faces=cp.cvtColor(faces,cp.COLOR_BGR2GRAY)\n",
    "        \n",
    "        file_path='C:\\\\Users\\\\Death Empire\\\\Desktop\\\\hook'+str(count)+'.jpg'\n",
    "        cp.imwrite(file_path,faces)\n",
    "        cp.putText(faces,str(count),(50,50),cp.FONT_HERSHEY_COMPLEX,1,(0,255,0),3)\n",
    "        cp.imshow('crp face',faces)\n",
    "    else:\n",
    "        print('Face Not Found')\n",
    "        pass\n",
    "    if cp.waitKey(1)==ord('q'):\n",
    "        break\n",
    "cap.release()\n",
    "cp.destroyAllWindows()\n",
    "print('collecting samples complete')"
   ]
  }
 ],
 "metadata": {
  "kernelspec": {
   "display_name": "Python 3 (ipykernel)",
   "language": "python",
   "name": "python3"
  },
  "language_info": {
   "codemirror_mode": {
    "name": "ipython",
    "version": 3
   },
   "file_extension": ".py",
   "mimetype": "text/x-python",
   "name": "python",
   "nbconvert_exporter": "python",
   "pygments_lexer": "ipython3",
   "version": "3.9.2"
  }
 },
 "nbformat": 4,
 "nbformat_minor": 5
}
