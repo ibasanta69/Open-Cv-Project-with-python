{
 "cells": [
  {
   "cell_type": "code",
   "execution_count": 3,
   "id": "56eb4b2b",
   "metadata": {},
   "outputs": [],
   "source": [
    "# read a image in open-cv\n",
    "import cv2 as cp\n",
    "img=cp.imread('g.jpg')\n",
    "img=cp.resize(img,(400,600))\n",
    "cp.imshow('image',img)\n",
    "cp.waitKey()\n",
    "cp.destroyAllWindows()\n"
   ]
  },
  {
   "cell_type": "code",
   "execution_count": 5,
   "id": "9c24c7f1",
   "metadata": {},
   "outputs": [],
   "source": [
    "#how to write a image in open-cv with python\n",
    "import cv2 as cp\n",
    "img=cp.imread('g.jpg')\n",
    "img=cp.resize(img,(500,700))\n",
    "cp.imshow('Girl',img)\n",
    "cp.waitKey()\n",
    "cp.destroyAllWindows()"
   ]
  },
  {
   "cell_type": "code",
   "execution_count": null,
   "id": "fb7964e0",
   "metadata": {},
   "outputs": [],
   "source": []
  }
 ],
 "metadata": {
  "kernelspec": {
   "display_name": "Python 3 (ipykernel)",
   "language": "python",
   "name": "python3"
  },
  "language_info": {
   "codemirror_mode": {
    "name": "ipython",
    "version": 3
   },
   "file_extension": ".py",
   "mimetype": "text/x-python",
   "name": "python",
   "nbconvert_exporter": "python",
   "pygments_lexer": "ipython3",
   "version": "3.9.2"
  }
 },
 "nbformat": 4,
 "nbformat_minor": 5
}
